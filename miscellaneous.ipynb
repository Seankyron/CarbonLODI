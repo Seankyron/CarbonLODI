{
 "cells": [
  {
   "cell_type": "code",
   "execution_count": 4,
   "metadata": {},
   "outputs": [],
   "source": [
    "import time\n",
    "import os\n",
    "import sys\n",
    "import datetime\n",
    "import random\n"
   ]
  },
  {
   "cell_type": "code",
   "execution_count": 3,
   "metadata": {},
   "outputs": [],
   "source": [
    "\n",
    "try:\n",
    "    from tabulate import tabulate\n",
    "except ModuleNotFoundError:\n",
    "    # Handle the missing module error\n",
    "    print(\"The 'tabulate' module is not installed.\")\n",
    "    print(\"Please install it by running: pip install tabulate\")\n",
    "    time.sleep(3)\n",
    "    sys.exit(1001)\n",
    "try:\n",
    "    from abstracts import ErrorHandlerABC\n",
    "    from abstracts import CarbonCalculatorABC\n",
    "    from abstracts import AccountManagerABC\n",
    "except ModuleNotFoundError:\n",
    "    # Handle the missing module error\n",
    "    print(\"The 'abstracts.py' file is missing.\")\n",
    "    print(\"Please download the latest version of the Repository\")\n",
    "    time.sleep(3)\n",
    "    sys.exit(1002)"
   ]
  },
  {
   "cell_type": "code",
   "execution_count": 2,
   "metadata": {},
   "outputs": [],
   "source": [
    "\n",
    "class Constants:\n",
    "    logo = '''\n",
    "\n",
    " ██████╗ █████╗ ██████╗ ██████╗  ██████╗ ███╗   ██╗    ██╗      ██████╗ ██████╗ ██╗\n",
    "██╔════╝██╔══██╗██╔══██╗██╔══██╗██╔═══██╗████╗  ██║    ██║     ██╔═══██╗██╔══██╗██║\n",
    "██║     ███████║██████╔╝██████╔╝██║   ██║██╔██╗ ██║    ██║     ██║   ██║██║  ██║██║\n",
    "██║     ██╔══██║██╔══██╗██╔══██╗██║   ██║██║╚██╗██║    ██║     ██║   ██║██║  ██║██║\n",
    "╚██████╗██║  ██║██║  ██║██████╔╝╚██████╔╝██║ ╚████║    ███████╗╚██████╔╝██████╔╝██║\n",
    " ╚═════╝╚═╝  ╚═╝╚═╝  ╚═╝╚═════╝  ╚═════╝ ╚═╝  ╚═══╝    ╚══════╝ ╚═════╝ ╚═════╝ ╚═╝'''\n"
   ]
  }
 ],
 "metadata": {
  "kernelspec": {
   "display_name": "Python 3",
   "language": "python",
   "name": "python3"
  },
  "language_info": {
   "codemirror_mode": {
    "name": "ipython",
    "version": 3
   },
   "file_extension": ".py",
   "mimetype": "text/x-python",
   "name": "python",
   "nbconvert_exporter": "python",
   "pygments_lexer": "ipython3",
   "version": "3.11.1"
  },
  "orig_nbformat": 4
 },
 "nbformat": 4,
 "nbformat_minor": 2
}
